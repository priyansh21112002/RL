{
  "nbformat": 4,
  "nbformat_minor": 0,
  "metadata": {
    "colab": {
      "provenance": []
    },
    "kernelspec": {
      "name": "python3",
      "display_name": "Python 3"
    },
    "language_info": {
      "name": "python"
    }
  },
  "cells": [
    {
      "cell_type": "code",
      "execution_count": null,
      "metadata": {
        "colab": {
          "base_uri": "https://localhost:8080/"
        },
        "id": "KjC4MXV4NICS",
        "outputId": "c954d6cc-183d-4fc1-feb0-9f81823a37cb"
      },
      "outputs": [
        {
          "output_type": "stream",
          "name": "stdout",
          "text": [
            "[[[ 5.6655611   6.73289     5.6655611   6.73289   ]\n",
            "  [ 6.73289     7.811       5.6655611   7.811     ]\n",
            "  [ 1.8932734   8.9         0.85844384  1.13640991]]\n",
            "\n",
            " [[ 1.67282844  7.811       1.83144887  3.68324788]\n",
            "  [ 6.73289     8.9         6.73289     8.9       ]\n",
            "  [ 1.96891838 10.          2.66852709  5.2705602 ]]\n",
            "\n",
            " [[ 1.83126381  5.51732074  5.29369585  8.9       ]\n",
            "  [ 7.811       8.9         7.811      10.        ]\n",
            "  [ 0.          0.          0.          0.        ]]]\n"
          ]
        }
      ],
      "source": [
        "import numpy as np\n",
        "\n",
        "# Define the environment\n",
        "env = np.array([[-1, -1, -1],\n",
        "                [-1, -1, -1],\n",
        "                [-1, -1, -1]])\n",
        "\n",
        "# Define the rewards\n",
        "rewards = np.array([[-1, -1, -1],\n",
        "                    [-1, -1, -1],\n",
        "                    [-1, -1, 10]])\n",
        "\n",
        "# Define the Q-Table\n",
        "q_table = np.zeros((env.shape[0], env.shape[1], 4))\n",
        "\n",
        "# Define the hyperparameters\n",
        "alpha = 0.1\n",
        "gamma = 0.99\n",
        "epsilon = 1.0\n",
        "epsilon_decay = 0.99\n",
        "epsilon_min = 0.01\n",
        "episodes = 100000\n",
        "\n",
        "# Define the actions\n",
        "actions = {\n",
        "    0: 'Up',\n",
        "    1: 'Down',\n",
        "    2: 'Left',\n",
        "    3: 'Right'\n",
        "}\n",
        "\n",
        "# Define the Q-Learning algorithm\n",
        "for episode in range(episodes):\n",
        "    state = [0, 0]\n",
        "    done = False\n",
        "    while not done:\n",
        "        # Choose an action\n",
        "        if np.random.random() > epsilon:\n",
        "            action = np.argmax(q_table[state[0], state[1]])\n",
        "        else:\n",
        "            action = np.random.randint(0, 4)\n",
        "        \n",
        "        # Take the action and observe the next state and reward\n",
        "        if actions[action] == 'Up':\n",
        "            next_state = [max(state[0]-1, 0), state[1]]\n",
        "        elif actions[action] == 'Down':\n",
        "            next_state = [min(state[0]+1, 2), state[1]]\n",
        "        elif actions[action] == 'Left':\n",
        "            next_state = [state[0], max(state[1]-1, 0)]\n",
        "        else:\n",
        "            next_state = [state[0], min(state[1]+1, 2)]\n",
        "        reward = rewards[next_state[0], next_state[1]]\n",
        "        \n",
        "        # Update the Q-Table\n",
        "        q_table[state[0], state[1], action] = (1 - alpha) * q_table[state[0], state[1], action] + alpha * (reward + gamma * np.max(q_table[next_state[0], next_state[1]]))\n",
        "        \n",
        "        # Update the state\n",
        "        state = next_state\n",
        "        \n",
        "        # Check if the episode is done\n",
        "        if state == [2, 2]:\n",
        "            done = True\n",
        "        \n",
        "    # Decay the epsilon\n",
        "    if epsilon > epsilon_min:\n",
        "        epsilon *= epsilon_decay\n",
        "\n",
        "# Print the learned Q-Table\n",
        "print(q_table)\n"
      ]
    },
    {
      "cell_type": "code",
      "source": [],
      "metadata": {
        "id": "elHFNrioNXKn"
      },
      "execution_count": null,
      "outputs": []
    }
  ]
}